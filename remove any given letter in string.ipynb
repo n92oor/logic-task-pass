{
 "cells": [
  {
   "cell_type": "code",
   "execution_count": 1,
   "id": "b6599ba2",
   "metadata": {},
   "outputs": [],
   "source": [
    "c=\"noor mohammed\""
   ]
  },
  {
   "cell_type": "code",
   "execution_count": 2,
   "id": "b2ee76b7",
   "metadata": {},
   "outputs": [
    {
     "name": "stdout",
     "output_type": "stream",
     "text": [
      "enter remove lettero\n",
      "re= o\n"
     ]
    }
   ],
   "source": [
    "re=input('enter remove letter')\n",
    "print('re=',re)"
   ]
  },
  {
   "cell_type": "code",
   "execution_count": 3,
   "id": "051a2aaf",
   "metadata": {},
   "outputs": [
    {
     "name": "stdout",
     "output_type": "stream",
     "text": [
      "nr mhammed\n"
     ]
    }
   ],
   "source": [
    "print(c.replace(re, ''))"
   ]
  },
  {
   "cell_type": "code",
   "execution_count": null,
   "id": "5b137f31",
   "metadata": {},
   "outputs": [],
   "source": []
  }
 ],
 "metadata": {
  "kernelspec": {
   "display_name": "Python 3",
   "language": "python",
   "name": "python3"
  },
  "language_info": {
   "codemirror_mode": {
    "name": "ipython",
    "version": 3
   },
   "file_extension": ".py",
   "mimetype": "text/x-python",
   "name": "python",
   "nbconvert_exporter": "python",
   "pygments_lexer": "ipython3",
   "version": "3.8.8"
  }
 },
 "nbformat": 4,
 "nbformat_minor": 5
}
